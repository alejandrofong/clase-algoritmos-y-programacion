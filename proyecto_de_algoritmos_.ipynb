{
  "nbformat": 4,
  "nbformat_minor": 0,
  "metadata": {
    "colab": {
      "provenance": [],
      "authorship_tag": "ABX9TyM/laoe4q04cUw8q4mIGYRt",
      "include_colab_link": true
    },
    "kernelspec": {
      "name": "python3",
      "display_name": "Python 3"
    },
    "language_info": {
      "name": "python"
    }
  },
  "cells": [
    {
      "cell_type": "markdown",
      "metadata": {
        "id": "view-in-github",
        "colab_type": "text"
      },
      "source": [
        "<a href=\"https://colab.research.google.com/github/alejandrofong/clase-algoritmos-y-programacion/blob/main/proyecto_de_algoritmos_.ipynb\" target=\"_parent\"><img src=\"https://colab.research.google.com/assets/colab-badge.svg\" alt=\"Open In Colab\"/></a>"
      ]
    },
    {
      "cell_type": "code",
      "execution_count": null,
      "metadata": {
        "colab": {
          "base_uri": "https://localhost:8080/"
        },
        "id": "fV1PYzex3JlS",
        "outputId": "4273050c-5934-4347-a42b-817ca75da629"
      },
      "outputs": [
        {
          "output_type": "stream",
          "name": "stdout",
          "text": [
            "---------------------BIENVENIDO AL SISTEMA---------------------\n",
            "Por favor introduzca en qué parte se encuentra, si en la costa o en Bogotá: bogota\n",
            "AJUSTANDO LOCALIZACIÓN\n",
            "Introduzca el peso del agua en kg: 2\n",
            "Introduzca el peso del vapor en kg: 3\n",
            "Error en el sistema, los valores no coinciden. Por favor, reintente.\n",
            "Introduzca el peso del agua en kg: 2\n",
            "Introduzca el peso del vapor en kg: 2\n",
            "Se introdujeron los valores correctos\n",
            "Introduzca el landa correspondiente: 2300\n",
            "Introduzca la temperatura del vapor (C°): 120\n",
            "Introduzca la temperatura del agua (C°): 20\n",
            "Introduzca el calor específico del agua: 4.182\n",
            "Introduzca el calor específico del vapor: 2.2\n",
            "La energía requerida para que se evapore la cantidad de agua solicitada a la temperatura que está es de: 5325.407999999999\n",
            "---------------------FIN DEL SISTEMA---------------------\n"
          ]
        }
      ],
      "source": [
        "# Función para obtener la temperatura de cambio de fase\n",
        "def obtener_temperatura_cambio_de_fase(localizacion):\n",
        "    if localizacion == \"bogota\":\n",
        "        return 92\n",
        "    else:\n",
        "        return 100\n",
        "\n",
        "# Función para obtener la temperatura del vapor y del agua\n",
        "def obtener_temperaturas_validas():\n",
        "    intentos = 0\n",
        "    while intentos < 3:\n",
        "        temperatura_vapor = float(input(\"Introduzca la temperatura del vapor (C°): \"))\n",
        "        temperatura_agua = float(input(\"Introduzca la temperatura del agua (C°): \"))\n",
        "        if temperatura_agua < temperatura_vapor:\n",
        "            return temperatura_vapor, temperatura_agua\n",
        "        else:\n",
        "            print(\"Datos incorrectos, vuelva a intentarlo\")\n",
        "            intentos += 1\n",
        "    print(\"Ha excedido el número máximo de intentos. Programa terminado.\")\n",
        "    exit()\n",
        "\n",
        "print(\"---------------------BIENVENIDO AL SISTEMA---------------------\")\n",
        "\n",
        "temperatura_cambio_de_fase = obtener_temperatura_cambio_de_fase(input(\"Por favor introduzca en qué parte se encuentra, si en la costa o en Bogotá: \"))\n",
        "print(\"AJUSTANDO LOCALIZACIÓN\")\n",
        "\n",
        "# Se le pide al usuario que introduzca el peso del agua en kg y el peso del vapor en kg\n",
        "intentos = 0\n",
        "\n",
        "while intentos < 3:\n",
        "    masa1 = float(input(\"Introduzca el peso del agua en kg: \"))\n",
        "    masa2 = float(input(\"Introduzca el peso del vapor en kg: \"))\n",
        "\n",
        "    if masa1 == masa2:\n",
        "        print(\"Se introdujeron los valores correctos\")\n",
        "        break  # Sale del bucle si los valores son iguales\n",
        "    else:\n",
        "        print(\"Error en el sistema, los valores no coinciden. Por favor, reintente.\")\n",
        "        intentos += 1\n",
        "\n",
        "if intentos == 3:\n",
        "    print(\"Ha excedido el número máximo de intentos. Programa terminado.\")\n",
        "# Se piden los valores necesarios para el ejercicio\n",
        "landa = float(input(\"Introduzca el landa correspondiente: \"))\n",
        "temperatura_vapor, temperatura_agua = obtener_temperaturas_validas()\n",
        "\n",
        "# Se piden los calores específicos del agua y del vapor\n",
        "calor_especifico_agua = float(input(\"Introduzca el calor específico del agua: \"))\n",
        "calor_especifico_vapor = float(input(\"Introduzca el calor específico del vapor: \"))\n",
        "\n",
        "# Cálculo de la energía requerida\n",
        "resultado = masa1 * (calor_especifico_vapor * (temperatura_vapor - temperatura_cambio_de_fase) + landa + calor_especifico_agua * (temperatura_cambio_de_fase - temperatura_agua))\n",
        "print(\"La energía requerida para que se evapore la cantidad de agua solicitada a la temperatura que está es de:\", resultado)\n",
        "\n",
        "print(\"---------------------FIN DEL SISTEMA---------------------\")"
      ]
    }
  ]
}